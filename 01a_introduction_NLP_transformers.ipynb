{
  "nbformat": 4,
  "nbformat_minor": 0,
  "metadata": {
    "colab": {
      "name": "01a_introduction_NLP_transformers.ipynb",
      "provenance": [],
      "toc_visible": true,
      "authorship_tag": "ABX9TyMvWYt12IEk2NmjCAysDi4D",
      "include_colab_link": true
    },
    "kernelspec": {
      "name": "python3",
      "display_name": "Python 3"
    },
    "accelerator": "GPU"
  },
  "cells": [
    {
      "cell_type": "markdown",
      "metadata": {
        "id": "view-in-github",
        "colab_type": "text"
      },
      "source": [
        "<a href=\"https://colab.research.google.com/github/ccarpenterg/introTransformers/blob/master/01a_introduction_NLP_transformers.ipynb\" target=\"_parent\"><img src=\"https://colab.research.google.com/assets/colab-badge.svg\" alt=\"Open In Colab\"/></a>"
      ]
    },
    {
      "cell_type": "markdown",
      "metadata": {
        "id": "wDzLWK0pc9u6",
        "colab_type": "text"
      },
      "source": [
        "# Introduction to Attention and Transformers"
      ]
    },
    {
      "cell_type": "markdown",
      "metadata": {
        "id": "CcixBVzefiry",
        "colab_type": "text"
      },
      "source": [
        "## Encoder-Decoder Models and Attention"
      ]
    },
    {
      "cell_type": "markdown",
      "metadata": {
        "id": "7FehCstWdErc",
        "colab_type": "text"
      },
      "source": [
        "## The Transformer Model Architecture"
      ]
    },
    {
      "cell_type": "markdown",
      "metadata": {
        "id": "Pzg4RcYhdejX",
        "colab_type": "text"
      },
      "source": [
        "![Transformer Architecture](https://user-images.githubusercontent.com/114733/76441734-a7d5a300-639e-11ea-9482-245e2b4b8aa7.jpg)"
      ]
    }
  ]
}