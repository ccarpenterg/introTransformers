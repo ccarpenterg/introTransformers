{
  "nbformat": 4,
  "nbformat_minor": 0,
  "metadata": {
    "colab": {
      "name": "01a_introduction_NLP_transformers.ipynb",
      "provenance": [],
      "toc_visible": true,
      "authorship_tag": "ABX9TyMDZTkCEqf+1+O7vyCybsKz",
      "include_colab_link": true
    },
    "kernelspec": {
      "name": "python3",
      "display_name": "Python 3"
    },
    "accelerator": "GPU"
  },
  "cells": [
    {
      "cell_type": "markdown",
      "metadata": {
        "id": "view-in-github",
        "colab_type": "text"
      },
      "source": [
        "<a href=\"https://colab.research.google.com/github/ccarpenterg/introTransformers/blob/master/01a_introduction_NLP_transformers.ipynb\" target=\"_parent\"><img src=\"https://colab.research.google.com/assets/colab-badge.svg\" alt=\"Open In Colab\"/></a>"
      ]
    },
    {
      "cell_type": "markdown",
      "metadata": {
        "id": "wDzLWK0pc9u6",
        "colab_type": "text"
      },
      "source": [
        "# Introduction to Attention and Transformers"
      ]
    },
    {
      "cell_type": "markdown",
      "metadata": {
        "id": "CcixBVzefiry",
        "colab_type": "text"
      },
      "source": [
        "## Encoder-Decoder Models and Attention"
      ]
    },
    {
      "cell_type": "markdown",
      "metadata": {
        "id": "wfQoBdut_TuA",
        "colab_type": "text"
      },
      "source": [
        "![alt text](https://user-images.githubusercontent.com/114733/80152407-9d0b5200-8589-11ea-83ce-40fbfa650532.jpg)"
      ]
    },
    {
      "cell_type": "markdown",
      "metadata": {
        "id": "WafKuF3qMW8O",
        "colab_type": "text"
      },
      "source": [
        "### Sequence to Sequence with Attention"
      ]
    },
    {
      "cell_type": "markdown",
      "metadata": {
        "id": "l-vX_IkVAgwM",
        "colab_type": "text"
      },
      "source": [
        "![seq2seq with attention](https://user-images.githubusercontent.com/114733/80152704-2c186a00-858a-11ea-973c-995049586450.jpg)"
      ]
    },
    {
      "cell_type": "markdown",
      "metadata": {
        "id": "r80-Fh9yMc_X",
        "colab_type": "text"
      },
      "source": [
        "### Attention\n",
        "\n",
        "\"An attention function can be described as mapping a query and a set of key-value pairs to an output, where the query, keys, values, and output are all vectors. The output is computed as a weighted sum of the values, where the weight assigned to each value is computed by a compatibility function of the query with the corresponding key\"."
      ]
    },
    {
      "cell_type": "markdown",
      "metadata": {
        "id": "7FehCstWdErc",
        "colab_type": "text"
      },
      "source": [
        "## The Transformer Model Architecture"
      ]
    },
    {
      "cell_type": "markdown",
      "metadata": {
        "id": "Pzg4RcYhdejX",
        "colab_type": "text"
      },
      "source": [
        "![Transformer Architecture](https://user-images.githubusercontent.com/114733/76441734-a7d5a300-639e-11ea-9482-245e2b4b8aa7.jpg)"
      ]
    },
    {
      "cell_type": "markdown",
      "metadata": {
        "id": "uqeMlIrqSCkG",
        "colab_type": "text"
      },
      "source": [
        "## References\n",
        "\n",
        "[1]  Neural Machine Translation by Jointly Learning Align and Translate (Seq2Seq with Attention paper), [Bahdanau 2016](https://arxiv.org/pdf/1409.0473.pdf)\n",
        "\n",
        "[2] Attention Is All You Need (attention paper), [Vaswani 2017](https://arxiv.org/pdf/1706.03762.pdf)\n"
      ]
    }
  ]
}